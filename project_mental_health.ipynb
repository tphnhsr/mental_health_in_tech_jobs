{
 "cells": [
  {
   "cell_type": "code",
   "execution_count": null,
   "id": "550f8c0b-fd5d-473f-9d56-55cd966f6993",
   "metadata": {
    "tags": []
   },
   "outputs": [],
   "source": [
    "import numpy as np\n",
    "import pandas as pd\n",
    "import matplotlib.pyplot as plt\n",
    "import seaborn as sns"
   ]
  },
  {
   "cell_type": "markdown",
   "id": "171937e4-d479-49a6-a135-6e8ca2138f4f",
   "metadata": {
    "tags": []
   },
   "source": [
    "<h2> Data visualisation and preparation </h2>"
   ]
  },
  {
   "cell_type": "markdown",
   "id": "a85083d4-d31a-4f1a-94a8-dc46b5b1f393",
   "metadata": {},
   "source": [
    "On commence par importer les données téléchargées préalablement. On regarde ensuite les informations générales concernant le DataFrame obtenu. "
   ]
  },
  {
   "cell_type": "code",
   "execution_count": null,
   "id": "3aef9312-8031-4edd-9224-bd4c13598a2e",
   "metadata": {
    "tags": []
   },
   "outputs": [],
   "source": [
    "# load data\n",
    "data = pd.read_csv('survey.csv')\n",
    "data.head()"
   ]
  },
  {
   "cell_type": "code",
   "execution_count": null,
   "id": "9f44f3b6-159c-4071-8698-95d5c0e29841",
   "metadata": {
    "tags": []
   },
   "outputs": [],
   "source": [
    "data.info()"
   ]
  },
  {
   "cell_type": "code",
   "execution_count": null,
   "id": "ed722894-58b1-406e-8c1c-c3491b7cbe9f",
   "metadata": {
    "tags": []
   },
   "outputs": [],
   "source": [
    "data.isnull().sum()"
   ]
  },
  {
   "cell_type": "code",
   "execution_count": null,
   "id": "572a6428-368d-455b-a8fa-4055b55d2bec",
   "metadata": {
    "tags": []
   },
   "outputs": [],
   "source": [
    "data.nunique()"
   ]
  },
  {
   "cell_type": "markdown",
   "id": "f4bf9f34-f029-4642-b020-604876449332",
   "metadata": {},
   "source": [
    "Les commentaires et dates/heures de réponse au questionnaire n'interviennent à priori pas dans la nature des réponses données. On peut donc supprimer les colonnes correspondantes. "
   ]
  },
  {
   "cell_type": "code",
   "execution_count": null,
   "id": "0082c38d-c67f-462c-8a4e-de6240518b18",
   "metadata": {
    "tags": []
   },
   "outputs": [],
   "source": [
    "data = data.drop('Timestamp', axis=1)"
   ]
  },
  {
   "cell_type": "code",
   "execution_count": null,
   "id": "3964c81a-eb86-406b-ab1a-4a3ca4d66ce4",
   "metadata": {
    "tags": []
   },
   "outputs": [],
   "source": [
    "data = data.drop('comments', axis=1)"
   ]
  },
  {
   "cell_type": "markdown",
   "id": "85678545-069a-4863-895d-5d29e20a35b7",
   "metadata": {
    "tags": []
   },
   "source": [
    "<h5>Age </h5>"
   ]
  },
  {
   "cell_type": "markdown",
   "id": "99b8f3fb-243a-49a9-8916-32b949f6f71d",
   "metadata": {},
   "source": [
    "On s'intéresse à la variable \"Age\"."
   ]
  },
  {
   "cell_type": "code",
   "execution_count": null,
   "id": "6675aeed-c0cf-4cc7-b133-26e0307a4a84",
   "metadata": {
    "tags": []
   },
   "outputs": [],
   "source": [
    "sns.countplot(y=\"Age\", data=data)"
   ]
  },
  {
   "cell_type": "code",
   "execution_count": null,
   "id": "2d113489-0fcd-4c6e-9f07-65d9116a9a49",
   "metadata": {
    "tags": []
   },
   "outputs": [],
   "source": [
    "print(data.Age.value_counts())"
   ]
  },
  {
   "cell_type": "code",
   "execution_count": null,
   "id": "5980f875-97cd-4f95-a0e7-a2aaff41f5fb",
   "metadata": {
    "tags": []
   },
   "outputs": [],
   "source": [
    "data.Age.describe()"
   ]
  },
  {
   "cell_type": "markdown",
   "id": "e3d4a195-615e-4e16-9e7e-126b4b61cd22",
   "metadata": {},
   "source": [
    "On remarque des réponses absurdes, comme des valeurs négatives d'âge (impossible) ou encore des âges supérieurs à 300 (de même, impossible). On décide donc de supprimer les lignes associées à ces réponses. On enlève également les personnes mineures (5, 8 et 11 ans). La moyenne d'âge est de 32 ans."
   ]
  },
  {
   "cell_type": "code",
   "execution_count": null,
   "id": "ad1a2df8-932f-49dd-aae9-974193780999",
   "metadata": {
    "tags": []
   },
   "outputs": [],
   "source": [
    "#on enlève les réponses absurdes\n",
    "data = data.drop(data[data.Age < 18].index)\n",
    "data = data.drop(data[data.Age > 80].index)"
   ]
  },
  {
   "cell_type": "markdown",
   "id": "2bb86a88-2a56-4a28-833c-7774f776a921",
   "metadata": {},
   "source": [
    "Pour faciliter le modèle, on sépare les âges en plusieurs catégories (tranches d'âge). De cette manière, la réponse n'est plus numérique mais uniquement True/False (1 ou 0) selon l'appartenance ou non à une tranche d'âge. On choisit les tranches 18-25 ans (jeunes travailleurs et diplômés), 26-35 ans (un peu moins jeunes, positions intermédiaires), 36-50 ans, et + 50 ans (seniors). On aura ainsi 4 nouvelles variables contenant uniquement des 0 et des 1."
   ]
  },
  {
   "cell_type": "code",
   "execution_count": null,
   "id": "e736ac79-1322-4fbb-a76a-8937bcecc168",
   "metadata": {
    "tags": []
   },
   "outputs": [],
   "source": [
    "#on regroupe les âges par \"paliers\" : 18-25, 26-35, 35-50, +50\n",
    "list_age_18_25=[]\n",
    "list_age_26_35=[]\n",
    "list_age_36_50=[]\n",
    "list_age_over50=[]\n",
    "for part in data['Age']:\n",
    "    #18-25\n",
    "    if (int(part)>=18) and (int(part)<=25):\n",
    "        list_age_18_25.append(1)\n",
    "        list_age_26_35.append(0)\n",
    "        list_age_36_50.append(0)\n",
    "        list_age_over50.append(0) \n",
    "    #26-35\n",
    "    elif (int(part)>=26) and (int(part)<=35):\n",
    "        list_age_18_25.append(0)\n",
    "        list_age_26_35.append(1)\n",
    "        list_age_36_50.append(0)\n",
    "        list_age_over50.append(0) \n",
    "    #36-50\n",
    "    elif (int(part)>=36) and (int(part)<=50):\n",
    "        list_age_18_25.append(0)\n",
    "        list_age_26_35.append(0)\n",
    "        list_age_36_50.append(1)\n",
    "        list_age_over50.append(0) \n",
    "    #>50\n",
    "    elif (int(part)>50) and (int(part)<=80):\n",
    "        list_age_18_25.append(0)\n",
    "        list_age_26_35.append(0)\n",
    "        list_age_36_50.append(0)\n",
    "        list_age_over50.append(1) "
   ]
  },
  {
   "cell_type": "code",
   "execution_count": null,
   "id": "a4f762bd-c2e5-41a7-a92e-aa02b9dbe600",
   "metadata": {
    "tags": []
   },
   "outputs": [],
   "source": [
    "data['18_25']=list_age_18_25\n",
    "data['25_35']=list_age_26_35\n",
    "data['36_50']=list_age_36_50\n",
    "data['Over50']=list_age_over50"
   ]
  },
  {
   "cell_type": "markdown",
   "id": "4b92910b-f439-44bf-a60e-471f5c7e92af",
   "metadata": {},
   "source": [
    "On supprime maintenant la variable Age."
   ]
  },
  {
   "cell_type": "code",
   "execution_count": null,
   "id": "5bfd75e7-81ef-4963-8055-fc12c138bea3",
   "metadata": {
    "tags": []
   },
   "outputs": [],
   "source": [
    "#on supprime age\n",
    "#data = data.drop('Age', axis=1)"
   ]
  },
  {
   "cell_type": "markdown",
   "id": "883f54ec-d75a-4bef-b7ba-188eb7d5cc35",
   "metadata": {
    "tags": []
   },
   "source": [
    "<h5>Gender </h5>"
   ]
  },
  {
   "cell_type": "markdown",
   "id": "6c4a4ea3-24c0-410b-996e-2a9120502464",
   "metadata": {},
   "source": [
    "On s'intéresse à la variable \"Gender\" représentant le genre de la personne interrogée."
   ]
  },
  {
   "cell_type": "code",
   "execution_count": null,
   "id": "0df85552-4b60-4e5c-9146-1dcbc891488b",
   "metadata": {
    "tags": []
   },
   "outputs": [],
   "source": [
    "print(data.Gender.value_counts())"
   ]
  },
  {
   "cell_type": "markdown",
   "id": "a5ec8b83-418c-4d45-9616-4744451d1d63",
   "metadata": {},
   "source": [
    "Le questionnaire étant ouvert sur cette question, il n'y a pas de réponse \"classique\". On décide alors de séparer les genres en 3 catégories : Hommes (M), Femmes (F) et Autres (Other). "
   ]
  },
  {
   "cell_type": "code",
   "execution_count": null,
   "id": "648dd9b7-8d7a-450e-be73-9e03d0fe6a56",
   "metadata": {
    "tags": []
   },
   "outputs": [],
   "source": [
    "def correct_gender():\n",
    "    list_gender=[]\n",
    "    for part in data['Gender']:\n",
    "        #'male leaning androgynous',\n",
    "        if part in ['Male', 'male', 'M', 'm', 'Make', 'Cis Male', 'msle', 'Man', 'cis male', 'Malr', 'Cis Man', 'Mail', 'Guy (-ish) ^_^', 'Male-ish', 'maile', 'something kinda male?', 'Mal', 'Male (CIS)', 'ostensibly male, unsure what that really means']:\n",
    "            list_gender.append('M')\n",
    "        #'Female (trans)', 'Trans woman', 'Trans-female', \n",
    "        elif part in ['Female', 'female', 'F', 'f', 'Woman', 'Female', 'Female (cis)', 'cis-female/femme', 'femail', 'Cis Female', 'Female', 'woman']:\n",
    "            list_gender.append('F')\n",
    "        else:\n",
    "            list_gender.append('Other')\n",
    "    return list_gender"
   ]
  },
  {
   "cell_type": "code",
   "execution_count": null,
   "id": "e2baf53a-1631-4e66-8ba3-73e943c89f1c",
   "metadata": {
    "tags": []
   },
   "outputs": [],
   "source": [
    "list_genders = correct_gender()\n",
    "data['Gender']=list_genders"
   ]
  },
  {
   "cell_type": "code",
   "execution_count": null,
   "id": "efbb7fd8-6db7-41a8-b820-a8a872d1720e",
   "metadata": {
    "tags": []
   },
   "outputs": [],
   "source": [
    "print(data.Gender.value_counts())\n",
    "sns.countplot(y=\"Gender\", data=data)"
   ]
  },
  {
   "cell_type": "code",
   "execution_count": null,
   "id": "0d7d545b-469d-4d1e-96fe-bec1ffacc016",
   "metadata": {
    "tags": []
   },
   "outputs": [],
   "source": [
    "sns.displot(x=data[\"Gender\"],hue=\"treatment\",data=data,kde=False)\n",
    "plt.title(\"Gender Distribution\");"
   ]
  },
  {
   "cell_type": "markdown",
   "id": "262752c6-ceb7-4e3d-b3c4-282232b705be",
   "metadata": {},
   "source": [
    "Après traitement, nous observons un gros déséquilibre dans la représentation des genres sur l’échantillon : M 986 F 244 et Other 21. On trouve plus de 2 fois plus de femmes traitées pour troubles psychologiques que de femmes non traitées, tandis que chez les hommes, on trouve un peu moins de personnes traitées que de non traitées."
   ]
  },
  {
   "cell_type": "code",
   "execution_count": null,
   "id": "7d844f5d-fdc9-415c-8434-033ef7d12189",
   "metadata": {
    "tags": []
   },
   "outputs": [],
   "source": [
    "data.Gender.describe()"
   ]
  },
  {
   "cell_type": "markdown",
   "id": "f9de9350-4a07-4c89-9591-7b21909bc07d",
   "metadata": {
    "tags": []
   },
   "source": [
    "<h5>Country </h5>"
   ]
  },
  {
   "cell_type": "markdown",
   "id": "0a25cd4d-b2f2-4f4f-87fd-9beb34f9d3f2",
   "metadata": {},
   "source": [
    "On s'intéresse à la variable \"Country\" représentant le pays d'origine des personnes ayant répondu au sondage."
   ]
  },
  {
   "cell_type": "code",
   "execution_count": null,
   "id": "eecfb7e2-6ea1-45c5-bee3-68901bf5b463",
   "metadata": {
    "tags": []
   },
   "outputs": [],
   "source": [
    "print(data.Country.value_counts())"
   ]
  },
  {
   "cell_type": "code",
   "execution_count": null,
   "id": "b91bbc89-a6e2-4dc5-bbd6-9342d6d2da74",
   "metadata": {
    "tags": []
   },
   "outputs": [],
   "source": [
    "data.Country.describe()"
   ]
  },
  {
   "cell_type": "markdown",
   "id": "a653ebe8-845b-455b-91e2-20711f656a79",
   "metadata": {},
   "source": [
    "On choisit de simplifier en appliquant le même principe que pour l'âge. Nous choisissons donc de séparer les origines en continents. Nous choisissons Europe, Amérique (Nord et Sud), Afrique, Asie et Océanie.\n",
    "Nous pouvons également remarquer que plus des 2/3 des participants sont originaires des Etats-Unis. "
   ]
  },
  {
   "cell_type": "code",
   "execution_count": null,
   "id": "47010f49-d9de-487a-99cc-2fcffef5f4e7",
   "metadata": {
    "tags": []
   },
   "outputs": [],
   "source": [
    "list_europe=[]\n",
    "list_america=[]\n",
    "list_africa=[]\n",
    "list_asia=[]\n",
    "list_oceania=[]\n",
    "for part in data['Country']:\n",
    "    #europe\n",
    "    if part in ['United Kingdom', 'Germany', 'Ireland', 'Netherlands', 'France', 'Poland', 'Switzerland', 'Sweden', 'Italy', 'Belgium', 'Bulgaria', 'Austria', 'Finland', 'Denmark', 'Greece', 'Croatia', 'Portugal', 'Moldova', 'Georgia', 'Czech Republic', 'Norway', 'Romania', 'Hungary', 'Bosnia and Herzegovina', 'Spain', 'Latvia', 'Slovenia']:\n",
    "        list_europe.append(1)\n",
    "        list_america.append(0)\n",
    "        list_africa.append(0)\n",
    "        list_asia.append(0)\n",
    "        list_oceania.append(0)\n",
    "    #america\n",
    "    elif part in ['United States', 'Mexico', 'Canada', 'Brazil', 'Colombia', 'Uruguay', 'Bahamas, The', 'Costa Rica']:\n",
    "        list_europe.append(0)\n",
    "        list_america.append(1)\n",
    "        list_africa.append(0)\n",
    "        list_asia.append(0)\n",
    "        list_oceania.append(0)\n",
    "    #africa\n",
    "    elif part in ['Nigeria', 'Zimbabwe']:\n",
    "        list_europe.append(0)\n",
    "        list_america.append(0)\n",
    "        list_africa.append(1)\n",
    "        list_asia.append(0)\n",
    "        list_oceania.append(0)\n",
    "    #asia\n",
    "    elif part in ['China', 'Philippines', 'India', 'Israel', 'Singapore', 'Russia', 'Thailand', 'Japan']:\n",
    "        list_europe.append(0)\n",
    "        list_america.append(0)\n",
    "        list_africa.append(0)\n",
    "        list_asia.append(1)\n",
    "        list_oceania.append(0)\n",
    "    #oceania\n",
    "    else:\n",
    "        list_europe.append(0)\n",
    "        list_america.append(0)\n",
    "        list_africa.append(0)\n",
    "        list_asia.append(0)\n",
    "        list_oceania.append(1)"
   ]
  },
  {
   "cell_type": "code",
   "execution_count": null,
   "id": "02dfc284-e279-4889-a9ec-a9575e973164",
   "metadata": {
    "tags": []
   },
   "outputs": [],
   "source": [
    "data['Europe']=list_europe\n",
    "data['America']=list_america\n",
    "data['Africa']=list_africa\n",
    "data['Asia']=list_asia\n",
    "data['Oceania']=list_oceania\n",
    "#data = data.drop('Country', axis=1)"
   ]
  },
  {
   "cell_type": "markdown",
   "id": "8d9da7b0-0367-4416-8072-3a53be7b6425",
   "metadata": {},
   "source": [
    "Pour les personnes ayant répondu et étant originaires des Etats-Unis, une question supplémentaire était proposée. Ainsi, nous avons les Etats (States) des américains ayant participé à ce sondage. "
   ]
  },
  {
   "cell_type": "code",
   "execution_count": null,
   "id": "4911cdc4-6ea7-4ac2-898b-54bc7f9cf59c",
   "metadata": {
    "tags": []
   },
   "outputs": [],
   "source": [
    "sns.countplot(y=\"state\", data=data)"
   ]
  },
  {
   "cell_type": "markdown",
   "id": "3792c99b-3809-4ff1-9669-ac5bc5ffb9e8",
   "metadata": {
    "tags": []
   },
   "source": [
    "<h5>Other variables </h5>"
   ]
  },
  {
   "cell_type": "code",
   "execution_count": null,
   "id": "55c5eee8-254b-46f7-a3fc-a29d6182a4d3",
   "metadata": {
    "tags": []
   },
   "outputs": [],
   "source": [
    "sns.countplot(y=\"self_employed\", data=data)"
   ]
  },
  {
   "cell_type": "code",
   "execution_count": null,
   "id": "5adf575f-deb0-4324-b2c3-93cbf0dd037f",
   "metadata": {
    "tags": []
   },
   "outputs": [],
   "source": [
    "data.self_employed.describe()"
   ]
  },
  {
   "cell_type": "code",
   "execution_count": null,
   "id": "65a74948-c011-4879-bbc8-6befb0951e6d",
   "metadata": {},
   "outputs": [],
   "source": [
    "sns.displot(x=data[\"self_employed\"],hue=\"treatment\",data=data,kde=False)\n",
    "plt.title(\"Self Employed Distribution\");"
   ]
  },
  {
   "cell_type": "markdown",
   "id": "4771ad3a-0f41-4a91-9d62-919a415cbc39",
   "metadata": {},
   "source": [
    "Le fait de travailler pour soi-même, à son propre compte en étant indépendant ne semble pas avoir d'effet spécifique sur la prise ou non de traitement. "
   ]
  },
  {
   "cell_type": "code",
   "execution_count": null,
   "id": "32c6f0d5-6a2a-4d23-9d03-a6c761d3677a",
   "metadata": {
    "tags": []
   },
   "outputs": [],
   "source": [
    "sns.countplot(y=\"family_history\", data=data)"
   ]
  },
  {
   "cell_type": "code",
   "execution_count": null,
   "id": "e81f87ca-925b-4200-ac8f-0154e336f75b",
   "metadata": {
    "tags": []
   },
   "outputs": [],
   "source": [
    "data.family_history.describe()"
   ]
  },
  {
   "cell_type": "code",
   "execution_count": null,
   "id": "8819fc0f-eabe-46ef-8d69-1671545a427a",
   "metadata": {
    "tags": []
   },
   "outputs": [],
   "source": [
    "sns.displot(x=data[\"family_history\"],hue=\"treatment\",data=data,kde=False)\n",
    "plt.title(\"Family History Distribution\");"
   ]
  },
  {
   "cell_type": "markdown",
   "id": "06c40afb-3a76-4e6d-8269-a58604f4ac9a",
   "metadata": {},
   "source": [
    "Nous pouvons remarquer que l'historique familial joue un rôle important dans la prise de traitement. Ainsi, une personne dont la famille a un historique sera plus suceptible de prendre un traitement, et inversement."
   ]
  },
  {
   "cell_type": "code",
   "execution_count": null,
   "id": "98934df2-b7b3-4328-b8ea-0bc5b70c15c8",
   "metadata": {
    "tags": []
   },
   "outputs": [],
   "source": [
    "sns.countplot(y=\"treatment\", data=data)"
   ]
  },
  {
   "cell_type": "code",
   "execution_count": null,
   "id": "fcb495ef-90ff-4377-b917-1676acf455c4",
   "metadata": {},
   "outputs": [],
   "source": [
    "data.treatment.describe()"
   ]
  },
  {
   "cell_type": "code",
   "execution_count": null,
   "id": "add4f9bd-10bf-4cee-a3d2-140afe066570",
   "metadata": {
    "tags": []
   },
   "outputs": [],
   "source": [
    "sns.countplot(y=\"work_interfere\", data=data)"
   ]
  },
  {
   "cell_type": "code",
   "execution_count": null,
   "id": "eba02542-0f3e-4632-9825-f90cf30c355f",
   "metadata": {},
   "outputs": [],
   "source": [
    "data.work_interfere.describe()"
   ]
  },
  {
   "cell_type": "code",
   "execution_count": null,
   "id": "d432b252-a6ca-4cbe-996e-ef3f36dfee34",
   "metadata": {
    "tags": []
   },
   "outputs": [],
   "source": [
    "sns.displot(x=data[\"work_interfere\"],hue=\"treatment\",data=data,kde=False)\n",
    "plt.title(\"Work Interfere Distribution\");"
   ]
  },
  {
   "cell_type": "markdown",
   "id": "50623a08-68cc-4a7d-9a31-758628dc75f7",
   "metadata": {},
   "source": [
    "De manière logique les personne traitées sont plus à même d'être gênées dans leur travail par des troubles psychologiques."
   ]
  },
  {
   "cell_type": "code",
   "execution_count": null,
   "id": "c8511e1b-8f8c-46a5-9976-aef03ecb96b2",
   "metadata": {
    "tags": []
   },
   "outputs": [],
   "source": [
    "sns.countplot(y=\"no_employees\", data=data)"
   ]
  },
  {
   "cell_type": "code",
   "execution_count": null,
   "id": "a03c34f4-3223-41bd-8b08-2ae5011561df",
   "metadata": {},
   "outputs": [],
   "source": [
    "data.no_employees.describe()"
   ]
  },
  {
   "cell_type": "code",
   "execution_count": null,
   "id": "ec9602ac-43de-4b85-97b5-fd1071b881c4",
   "metadata": {
    "tags": []
   },
   "outputs": [],
   "source": [
    "sns.displot(x=data[\"no_employees\"],hue=\"treatment\",data=data,kde=False)\n",
    "plt.xticks(rotation=45)\n",
    "plt.title(\"Number Employees Distribution\");"
   ]
  },
  {
   "cell_type": "markdown",
   "id": "535b1a6f-6a6f-442d-85f5-e7c2a35d655d",
   "metadata": {},
   "source": [
    "Il semblerait que le nombre d'employés ait un effet sur la prise ou non de traitement. Cela peut s'expliquer par la sensation d'utilité au sein de l'entreprise, la proximité avec les managers, la pression... "
   ]
  },
  {
   "cell_type": "code",
   "execution_count": null,
   "id": "7c91f930-2dd3-48b7-8c65-a1af672e868d",
   "metadata": {
    "tags": []
   },
   "outputs": [],
   "source": [
    "sns.countplot(y=\"remote_work\", data=data)"
   ]
  },
  {
   "cell_type": "code",
   "execution_count": null,
   "id": "8af4d5d6-23ae-45a8-8f63-62ad76ab5cef",
   "metadata": {},
   "outputs": [],
   "source": [
    "data.remote_work.describe()"
   ]
  },
  {
   "cell_type": "code",
   "execution_count": null,
   "id": "058c57bd-253f-4c43-8eab-661f127d9eee",
   "metadata": {
    "tags": []
   },
   "outputs": [],
   "source": [
    "sns.displot(x=data[\"remote_work\"],hue=\"treatment\",data=data,kde=False)\n",
    "plt.title(\"Remote Work Distribution\");"
   ]
  },
  {
   "cell_type": "markdown",
   "id": "d14832f8-3047-48bb-9581-e85c2b4172bb",
   "metadata": {},
   "source": [
    "Il ne semble pas y avoir de lien très fort entre le fait de travailler en télétravail ou non et la prise de traitement. Les deux semblent à peu près équivalents. "
   ]
  },
  {
   "cell_type": "code",
   "execution_count": null,
   "id": "7686aa25-820b-4a89-b942-9a38e8a26b62",
   "metadata": {
    "tags": []
   },
   "outputs": [],
   "source": [
    "sns.countplot(y=\"tech_company\", data=data)"
   ]
  },
  {
   "cell_type": "code",
   "execution_count": null,
   "id": "2278c653-a43e-44c9-a98a-329b5553da3b",
   "metadata": {},
   "outputs": [],
   "source": [
    "data.tech_company.describe()"
   ]
  },
  {
   "cell_type": "code",
   "execution_count": null,
   "id": "167894e4-19ee-47f5-ba56-395b67d28a2d",
   "metadata": {
    "tags": []
   },
   "outputs": [],
   "source": [
    "sns.displot(x=data[\"tech_company\"],hue=\"treatment\",data=data,kde=False)\n",
    "plt.title(\"Tech Company Distribution\");"
   ]
  },
  {
   "cell_type": "markdown",
   "id": "538f29e4-95ea-431e-b598-c5bce06fa5ce",
   "metadata": {},
   "source": [
    "De même, la nature de l'entreprise (tech ou non) ne semble pas avoir beaucoup d'effet sur la prise d'un traitement. "
   ]
  },
  {
   "cell_type": "code",
   "execution_count": null,
   "id": "14ec9fca-5e31-4dc3-8970-e866c5ba0f1f",
   "metadata": {
    "tags": []
   },
   "outputs": [],
   "source": [
    "sns.countplot(y=\"benefits\", data=data)"
   ]
  },
  {
   "cell_type": "code",
   "execution_count": null,
   "id": "43ccb337-634d-49f0-b3a8-043a0dda1d51",
   "metadata": {},
   "outputs": [],
   "source": [
    "data.benefits.describe()"
   ]
  },
  {
   "cell_type": "code",
   "execution_count": null,
   "id": "213f6ac4-0729-4a64-b1b1-25663eaa6d66",
   "metadata": {
    "tags": []
   },
   "outputs": [],
   "source": [
    "sns.displot(x=data[\"benefits\"],hue=\"treatment\",data=data,kde=False)\n",
    "plt.title(\"Benefits Distribution\");"
   ]
  },
  {
   "cell_type": "markdown",
   "id": "3c2b3d25-3339-4d15-9c24-176d5a00e698",
   "metadata": {},
   "source": [
    "On peut remarquer que lorsque l'entreprise propose des aides au niveau de la santé mentale (variable benefits), les employés sont plus à même de prendre un traitement. On peut l'expliquer par le fait que l'accès à ces soins est facilité et probablement moins cher pour les pays ne disposant pas de sécurité sociale réelle, comme les Etats-Unis (desquels 2/3 des participants sont originaires)."
   ]
  },
  {
   "cell_type": "code",
   "execution_count": null,
   "id": "081fb98c-5069-4c3a-a4c5-5eb5f965e7a7",
   "metadata": {
    "tags": []
   },
   "outputs": [],
   "source": [
    "sns.countplot(y=\"care_options\", data=data)"
   ]
  },
  {
   "cell_type": "code",
   "execution_count": null,
   "id": "579d135b-299f-425a-907f-954366d8a12f",
   "metadata": {},
   "outputs": [],
   "source": [
    "data.care_options.describe()"
   ]
  },
  {
   "cell_type": "code",
   "execution_count": null,
   "id": "c5a1bd57-aa51-4d70-8050-ab87c5cbc535",
   "metadata": {
    "tags": []
   },
   "outputs": [],
   "source": [
    "sns.displot(x=data[\"care_options\"],hue=\"treatment\",data=data,kde=False)\n",
    "plt.title(\"Care Options Distribution\");"
   ]
  },
  {
   "cell_type": "markdown",
   "id": "17ff05f7-d0e3-46ef-9166-46373c526876",
   "metadata": {},
   "source": [
    "De la même manière, lorsque l'entreprise propose des options d'accompagnement au niveau de la santé mentale (variable care_options), les employés sont plus à même de prendre un traitement. L'explication à ce phénomène est la même que pour la variable benefits. "
   ]
  },
  {
   "cell_type": "code",
   "execution_count": null,
   "id": "fac74fd1-e08d-45d3-aa9d-63d1de7010ad",
   "metadata": {
    "tags": []
   },
   "outputs": [],
   "source": [
    "sns.countplot(y=\"wellness_program\", data=data)"
   ]
  },
  {
   "cell_type": "code",
   "execution_count": null,
   "id": "317fcb70-4c97-4ecd-80b8-c9863c332828",
   "metadata": {},
   "outputs": [],
   "source": [
    "data.wellness_program.describe()"
   ]
  },
  {
   "cell_type": "code",
   "execution_count": null,
   "id": "9c55976b-e0d4-4a96-a5d7-e35630289540",
   "metadata": {
    "tags": []
   },
   "outputs": [],
   "source": [
    "sns.displot(x=data[\"wellness_program\"],hue=\"treatment\",data=data,kde=False)\n",
    "plt.title(\"Wellness Program Distribution\");"
   ]
  },
  {
   "cell_type": "markdown",
   "id": "f4455a48-1f7f-4b24-b0c6-94ee2e851f1d",
   "metadata": {},
   "source": [
    "Pour wellness_program, on retrouve le même schéma dans de plus petites proportions. Cette variable représente la présence d'un point sur la santé mentale dans les \"packages\" visant au bien-être des employés. "
   ]
  },
  {
   "cell_type": "code",
   "execution_count": null,
   "id": "6f87e1e7-5a6a-4f77-810f-a25350eb2a9e",
   "metadata": {
    "tags": []
   },
   "outputs": [],
   "source": [
    "sns.countplot(y=\"seek_help\", data=data)"
   ]
  },
  {
   "cell_type": "code",
   "execution_count": null,
   "id": "4e6f1ddd-45d0-4072-8ab5-a26d52470b51",
   "metadata": {},
   "outputs": [],
   "source": [
    "data.seek_help.describe()"
   ]
  },
  {
   "cell_type": "code",
   "execution_count": null,
   "id": "2a4d0cf7-5c2a-4b68-a98b-392e911d1d63",
   "metadata": {
    "tags": []
   },
   "outputs": [],
   "source": [
    "sns.displot(x=data[\"seek_help\"],hue=\"treatment\",data=data,kde=False)\n",
    "plt.title(\"Seek Help Distribution\");"
   ]
  },
  {
   "cell_type": "markdown",
   "id": "13c21ba2-0061-43f6-aac0-4ceeb20d5b7a",
   "metadata": {},
   "source": [
    "Cette variable représente la présence ou non de ressources éduquant les problèmes de santé mentale dans le cadre du travail. On peut l'expliquer de la même manière que précédemment."
   ]
  },
  {
   "cell_type": "code",
   "execution_count": null,
   "id": "aaa8c008-a662-40dd-8cf7-b7bedba7871e",
   "metadata": {
    "tags": []
   },
   "outputs": [],
   "source": [
    "sns.countplot(y=\"anonymity\", data=data)"
   ]
  },
  {
   "cell_type": "code",
   "execution_count": null,
   "id": "91800dcd-c6dd-40e3-b0b0-739c3f2e679f",
   "metadata": {},
   "outputs": [],
   "source": [
    "data.anonymity.describe()"
   ]
  },
  {
   "cell_type": "code",
   "execution_count": null,
   "id": "7fb11aab-d617-44ff-957e-7b14f619b88c",
   "metadata": {
    "tags": []
   },
   "outputs": [],
   "source": [
    "sns.displot(x=data[\"anonymity\"],hue=\"treatment\",data=data,kde=False)\n",
    "plt.title(\"Anonymity Distribution\");"
   ]
  },
  {
   "cell_type": "markdown",
   "id": "06137e00-3991-4647-8382-14fa4dfd5834",
   "metadata": {},
   "source": [
    "Cette variable représente le fait de pouvoir rester anonyme lorsqu'un employé décide d'utiliser les moyens mis à sa disposition par l'entreprise par rapport à la santé mentale. "
   ]
  },
  {
   "cell_type": "code",
   "execution_count": null,
   "id": "b80e3069-9378-4912-96fc-b8143df12016",
   "metadata": {
    "tags": []
   },
   "outputs": [],
   "source": [
    "sns.countplot(y=\"leave\", data=data)"
   ]
  },
  {
   "cell_type": "code",
   "execution_count": null,
   "id": "1a5b2b0c-35e7-4b67-9513-8e49967902e7",
   "metadata": {},
   "outputs": [],
   "source": [
    "data.leave.describe()"
   ]
  },
  {
   "cell_type": "code",
   "execution_count": null,
   "id": "b9aec388-82d0-4fd3-855d-561d4f720883",
   "metadata": {
    "tags": []
   },
   "outputs": [],
   "source": [
    "sns.displot(x=data[\"leave\"],hue=\"treatment\",data=data,kde=False)\n",
    "plt.xticks(rotation=45)\n",
    "plt.title(\"Leave Distribution\");"
   ]
  },
  {
   "cell_type": "markdown",
   "id": "89b61205-ff4b-4874-9dcc-009df34d3d38",
   "metadata": {},
   "source": [
    "Cette variable représente la facilité de prise de congé pour des raisons de santé mentale. On remarque que lorsque la prise de ces congés est difficile, la prise de traitement est plus forte. En revanche, elle n'est pas plus faible lorsque la prise de congé est simple. "
   ]
  },
  {
   "cell_type": "code",
   "execution_count": null,
   "id": "8123626e-1e25-4313-b35b-7f7d63bcd5da",
   "metadata": {
    "tags": []
   },
   "outputs": [],
   "source": [
    "sns.countplot(y=\"mental_health_consequence\", data=data)"
   ]
  },
  {
   "cell_type": "code",
   "execution_count": null,
   "id": "9608da71-8d00-414f-a857-1541a20948a9",
   "metadata": {},
   "outputs": [],
   "source": [
    "data.mental_health_consequence.describe()"
   ]
  },
  {
   "cell_type": "code",
   "execution_count": null,
   "id": "a9b1a8ca-69b3-4c06-9e18-6c5df213e32c",
   "metadata": {
    "tags": []
   },
   "outputs": [],
   "source": [
    "sns.displot(x=data[\"mental_health_consequence\"],hue=\"treatment\",data=data,kde=False)\n",
    "plt.title(\"Mental Health Consequence Distribution\");"
   ]
  },
  {
   "cell_type": "code",
   "execution_count": null,
   "id": "34f4deb2-9dec-4e0c-94e5-a70d92da6f55",
   "metadata": {
    "tags": []
   },
   "outputs": [],
   "source": [
    "sns.countplot(y=\"phys_health_consequence\", data=data)"
   ]
  },
  {
   "cell_type": "code",
   "execution_count": null,
   "id": "64901368-a0ae-498c-8d48-a9afb03635e0",
   "metadata": {},
   "outputs": [],
   "source": [
    "data.phys_health_consequence.describe()"
   ]
  },
  {
   "cell_type": "code",
   "execution_count": null,
   "id": "bfadf0be-84fa-4643-9085-8e5a567bcbca",
   "metadata": {
    "tags": []
   },
   "outputs": [],
   "source": [
    "sns.displot(x=data[\"phys_health_consequence\"],hue=\"treatment\",data=data,kde=False)\n",
    "plt.title(\"Physical Health Conseuquence Distribution\");"
   ]
  },
  {
   "cell_type": "markdown",
   "id": "edb66ebb-fe30-4d35-95bb-698520c6acdc",
   "metadata": {},
   "source": [
    "Ces deux variables représentent la présence ou non de conséquences si un employé venait à discuter de sa santé avec son manager. Mental_health_consequence correspond à la santé mentale et phys_health_consequence à la santé physique. On remarque qu'un \"tabou\" semble exister autour de la santé mentale au vu de la très forte proportion de Yes et Maybe. De plus, un manager plus \"ouvert\" sur les questions de santé mentale (réponse No) semblerait expliquer un moins grande prise de traitement. "
   ]
  },
  {
   "cell_type": "code",
   "execution_count": null,
   "id": "30e3a8ca-e9ec-4fd4-8ac7-0e27f1920337",
   "metadata": {
    "tags": []
   },
   "outputs": [],
   "source": [
    "sns.countplot(y=\"coworkers\", data=data)"
   ]
  },
  {
   "cell_type": "code",
   "execution_count": null,
   "id": "0af18f7b-cc0a-49b5-ba0f-ef3911707222",
   "metadata": {},
   "outputs": [],
   "source": [
    "data.coworkers.describe()"
   ]
  },
  {
   "cell_type": "code",
   "execution_count": null,
   "id": "dce72251-058f-416a-bbeb-4f675bb25bba",
   "metadata": {
    "tags": []
   },
   "outputs": [],
   "source": [
    "sns.displot(x=data[\"coworkers\"],hue=\"treatment\",data=data,kde=False)\n",
    "plt.title(\"Coworkers Distribution\");"
   ]
  },
  {
   "cell_type": "markdown",
   "id": "a7ea2f59-d24c-4f37-a2a4-7a41bb3c2477",
   "metadata": {},
   "source": [
    "La variable représentant le fait de pouvoir discuter de santé mentale avec ses collègues semble avoir peu d'influence sur la prise de traitement, même si il y en a de légères. "
   ]
  },
  {
   "cell_type": "code",
   "execution_count": null,
   "id": "8f402cde-a573-4cbc-a905-440d27bdf6ad",
   "metadata": {
    "tags": []
   },
   "outputs": [],
   "source": [
    "sns.countplot(y=\"supervisor\", data=data)"
   ]
  },
  {
   "cell_type": "code",
   "execution_count": null,
   "id": "e43a498d-6d81-4f83-9397-f6ddc6d44f7d",
   "metadata": {},
   "outputs": [],
   "source": [
    "data.supervisor.describe()"
   ]
  },
  {
   "cell_type": "code",
   "execution_count": null,
   "id": "a31a7a81-85fe-4a19-9708-6d112f47327c",
   "metadata": {
    "tags": []
   },
   "outputs": [],
   "source": [
    "sns.displot(x=data[\"supervisor\"],hue=\"treatment\",data=data,kde=False)\n",
    "plt.title(\"Supervisor Distribution\");"
   ]
  },
  {
   "cell_type": "markdown",
   "id": "24bf12fa-0f60-44cd-bbe8-fe2434725bbd",
   "metadata": {},
   "source": [
    "De même que pour les collègues, la variable représentant le fait de pouvoir discuter de santé mentale avec ses managers semble avoir peu d'influence sur la prise de traitement, même si il y en a de légères. "
   ]
  },
  {
   "cell_type": "code",
   "execution_count": null,
   "id": "ad5f8a88-45ff-44b6-be92-e1c58c236991",
   "metadata": {
    "tags": []
   },
   "outputs": [],
   "source": [
    "sns.countplot(y=\"mental_vs_physical\", data=data)"
   ]
  },
  {
   "cell_type": "code",
   "execution_count": null,
   "id": "0cbf9dae-efc1-4844-a9db-b00df2a25b96",
   "metadata": {},
   "outputs": [],
   "source": [
    "data.mental_vs_physical.describe()"
   ]
  },
  {
   "cell_type": "code",
   "execution_count": null,
   "id": "987c867d-3020-45da-9919-86440f8dba53",
   "metadata": {
    "tags": []
   },
   "outputs": [],
   "source": [
    "sns.displot(x=data[\"mental_vs_physical\"],hue=\"treatment\",data=data,kde=False)\n",
    "plt.title(\"Mental VS Physical Distribution\");"
   ]
  },
  {
   "cell_type": "markdown",
   "id": "10c46831-e6e6-4f01-8cf2-5be60ca29aca",
   "metadata": {},
   "source": [
    "Cette variable répond à la question \"pensez-vous que votre employeur prend autant au sérieux les problèmes de santé mentale que de santé physique ?\". "
   ]
  },
  {
   "cell_type": "code",
   "execution_count": null,
   "id": "2825a832-cc16-4df9-a124-07533697e3b0",
   "metadata": {
    "tags": []
   },
   "outputs": [],
   "source": [
    "sns.countplot(y=\"obs_consequence\", data=data)"
   ]
  },
  {
   "cell_type": "code",
   "execution_count": null,
   "id": "9c0102eb-ccad-4c8d-8c1c-ed3c3c034770",
   "metadata": {},
   "outputs": [],
   "source": [
    "data.obs_consequence.describe()"
   ]
  },
  {
   "cell_type": "code",
   "execution_count": null,
   "id": "118084fb-a069-412d-94ce-c8dbacfdf71b",
   "metadata": {
    "tags": []
   },
   "outputs": [],
   "source": [
    "sns.displot(x=data[\"obs_consequence\"],hue=\"treatment\",data=data,kde=False)\n",
    "plt.title(\"Obs Consequence Distribution\");"
   ]
  },
  {
   "cell_type": "markdown",
   "id": "46d12fdb-c8cd-435f-afc5-3516308025e0",
   "metadata": {},
   "source": [
    "Cette variable permet d'observer les conséquences sur le plan professionel d'un collègue ayant parlé de santé mentale. Ceux pour lesquels une conséquence négative a eu lieu sont plus à même de prendre un traitement."
   ]
  },
  {
   "cell_type": "markdown",
   "id": "69ecddb3-03ef-4a5a-9c25-d1b03b7697f2",
   "metadata": {},
   "source": [
    "<h1> Classification Models </h1>"
   ]
  },
  {
   "cell_type": "markdown",
   "id": "14494932-790e-4fd5-bd91-e519fde37014",
   "metadata": {},
   "source": [
    "On veut déterminer si un particpant au sondage est traité ou non (suivi par un spécialiste ou non) selon ses réponses concernant son environnement de travail. Ainsi, nous cherchons à classer les participants en 2 catégories : ceux devant être traités et ceux n'en ayant pas besoin. C'est donc un problème de classification. "
   ]
  },
  {
   "cell_type": "code",
   "execution_count": null,
   "id": "65664da6-bfb1-4015-8feb-bac295dbefdf",
   "metadata": {
    "tags": []
   },
   "outputs": [],
   "source": [
    "print(data.columns)"
   ]
  },
  {
   "cell_type": "code",
   "execution_count": null,
   "id": "1c67292a-9e0b-4b61-883a-deb42804d7c2",
   "metadata": {
    "tags": []
   },
   "outputs": [],
   "source": [
    "#On encode afin de pouvoir appliquer les modèles \n",
    "from sklearn.preprocessing import LabelEncoder\n",
    "\n",
    "lencode = LabelEncoder()\n",
    "for columns in ['Gender', 'Country', 'state', 'self_employed', 'treatment', 'family_history', 'work_interfere', 'obs_consequence', 'no_employees', 'remote_work', 'tech_company', 'benefits', 'care_options', 'wellness_program', 'seek_help', 'anonymity', 'leave', 'mental_health_consequence', 'phys_health_consequence', 'coworkers', 'supervisor', 'mental_health_interview', 'phys_health_interview', 'mental_vs_physical']:\n",
    "    data[columns] = lencode.fit_transform(data[columns])"
   ]
  },
  {
   "cell_type": "code",
   "execution_count": null,
   "id": "98f368e3-d79d-4cf1-8787-9356ac918d67",
   "metadata": {
    "tags": []
   },
   "outputs": [],
   "source": [
    "data.describe()"
   ]
  },
  {
   "cell_type": "code",
   "execution_count": null,
   "id": "f75ef8c9-8c96-498e-9fe8-77583065f8c1",
   "metadata": {
    "tags": []
   },
   "outputs": [],
   "source": [
    "#on veut réduire la standard deviation de Age, Country, state\n",
    "from sklearn.preprocessing import MaxAbsScaler, StandardScaler\n",
    "\n",
    "data['Age'] = MaxAbsScaler().fit_transform(data[['Age']])\n",
    "data['Country'] = StandardScaler().fit_transform(data[['Country']])\n",
    "data['state'] = StandardScaler().fit_transform(data[['state']])\n",
    "\n",
    "#on pourrait également diminuer celle de work_interfere et no_employees car > 1"
   ]
  },
  {
   "cell_type": "code",
   "execution_count": null,
   "id": "62119655-b14e-4016-b65b-ee3b67f57a09",
   "metadata": {
    "tags": []
   },
   "outputs": [],
   "source": [
    "data.describe()"
   ]
  },
  {
   "cell_type": "code",
   "execution_count": null,
   "id": "b7b6ec9b-5aca-4f03-bc31-5c854a0ec478",
   "metadata": {
    "tags": []
   },
   "outputs": [],
   "source": [
    "Y=data['treatment']\n",
    "X=data.drop(['treatment'], axis=1)"
   ]
  },
  {
   "cell_type": "code",
   "execution_count": null,
   "id": "90079217-4df1-461a-a84e-5af65822434a",
   "metadata": {},
   "outputs": [],
   "source": [
    "from sklearn.model_selection import train_test_split\n",
    "\n",
    "X_train, X_test, Y_train, Y_test = train_test_split(X, Y, test_size = 0.3, random_state=0)"
   ]
  },
  {
   "cell_type": "markdown",
   "id": "2a86f676-966f-4199-b50c-468f8c2f99d3",
   "metadata": {
    "tags": []
   },
   "source": [
    "<h3> Logistic Regression </h3>"
   ]
  },
  {
   "cell_type": "code",
   "execution_count": null,
   "id": "faab1864-45f6-4fdb-87da-925a2fa3bbaa",
   "metadata": {},
   "outputs": [],
   "source": [
    "from sklearn.linear_model import LogisticRegression"
   ]
  },
  {
   "cell_type": "code",
   "execution_count": null,
   "id": "336f90f9-c8b4-4c78-877f-10c9ca6f6ba3",
   "metadata": {
    "tags": []
   },
   "outputs": [],
   "source": [
    "model_lr = LogisticRegression().fit(X_train, Y_train)"
   ]
  },
  {
   "cell_type": "code",
   "execution_count": null,
   "id": "546e60aa-0e51-452d-9428-248432026a5e",
   "metadata": {
    "tags": []
   },
   "outputs": [],
   "source": [
    "from sklearn.metrics import accuracy_score, confusion_matrix, precision_score, recall_score, ConfusionMatrixDisplay"
   ]
  },
  {
   "cell_type": "code",
   "execution_count": null,
   "id": "5004c48a-87a9-43ea-b6f9-68554d13ccdd",
   "metadata": {
    "tags": []
   },
   "outputs": [],
   "source": [
    "#pred = model_lr.predict(X_train)\n",
    "Y_pred=model_lr.predict(X_test)\n",
    "\n",
    "#print(\"Accuracy : \",accuracy_score(Y_train, pred))\n",
    "print(\"Accuracy : \",accuracy_score(Y_test, Y_pred))\n",
    "print(\"Precision Score : \", precision_score(Y_test, Y_pred))\n",
    "print(\"Recall Score : \", recall_score(Y_test, Y_pred))\n",
    "print(\"Confusion Matrix : \\n\", confusion_matrix(Y_test, Y_pred))"
   ]
  },
  {
   "cell_type": "markdown",
   "id": "39db1f0a-96d1-4c89-a542-b831717733c4",
   "metadata": {
    "tags": []
   },
   "source": [
    "<h3> Random Forest </h3>"
   ]
  },
  {
   "cell_type": "code",
   "execution_count": null,
   "id": "d97173ad-1e6c-4e15-93ae-58d13ddd353e",
   "metadata": {
    "tags": []
   },
   "outputs": [],
   "source": [
    "from sklearn.ensemble import RandomForestClassifier"
   ]
  },
  {
   "cell_type": "code",
   "execution_count": null,
   "id": "7457c44c-c6c4-4d10-8e23-e9147647bf8f",
   "metadata": {
    "tags": []
   },
   "outputs": [],
   "source": [
    "model_rf = RandomForestClassifier().fit(X_train, Y_train)"
   ]
  },
  {
   "cell_type": "code",
   "execution_count": null,
   "id": "428db929-b223-4576-ba83-6c327f7b5f34",
   "metadata": {
    "tags": []
   },
   "outputs": [],
   "source": [
    "Y_pred = model_rf.predict(X_test)\n",
    "\n",
    "print(\"Accuracy : \",accuracy_score(Y_test, Y_pred))\n",
    "print(\"Precision Score : \", precision_score(Y_test, Y_pred))\n",
    "print(\"Recall Score : \", recall_score(Y_test, Y_pred))\n",
    "print(\"Confusion Matrix : \\n\", confusion_matrix(Y_test, Y_pred))"
   ]
  },
  {
   "cell_type": "markdown",
   "id": "5b370e75-fa7b-46eb-b01b-76810c3c5a93",
   "metadata": {},
   "source": [
    "<h3> Gaussian Naive Bayes Classifier </h3>"
   ]
  },
  {
   "cell_type": "code",
   "execution_count": null,
   "id": "84016331-6a93-451c-b74a-f703e319bfde",
   "metadata": {
    "tags": []
   },
   "outputs": [],
   "source": [
    "from sklearn.naive_bayes import GaussianNB"
   ]
  },
  {
   "cell_type": "code",
   "execution_count": null,
   "id": "6346d378-3ec1-4d5a-b639-210298c26359",
   "metadata": {
    "tags": []
   },
   "outputs": [],
   "source": [
    "model_gnb = GaussianNB().fit(X_train, Y_train)"
   ]
  },
  {
   "cell_type": "code",
   "execution_count": null,
   "id": "96ee44d5-66cc-44ad-9aa9-a49e0f26121d",
   "metadata": {
    "tags": []
   },
   "outputs": [],
   "source": [
    "Y_pred = model_gnb.predict(X_test)\n",
    "\n",
    "print(\"Accuracy : \",accuracy_score(Y_test, Y_pred))\n",
    "print(\"Precision Score : \", precision_score(Y_test, Y_pred))\n",
    "print(\"Recall Score : \", recall_score(Y_test, Y_pred))\n",
    "print(\"Confusion Matrix : \\n\", confusion_matrix(Y_test, Y_pred))"
   ]
  },
  {
   "cell_type": "markdown",
   "id": "e4b9fe65-03e4-4a04-b3b6-f22c8651db8c",
   "metadata": {},
   "source": [
    "<h3> Nearest Neighbours </h3>"
   ]
  },
  {
   "cell_type": "code",
   "execution_count": null,
   "id": "f96ded36-b972-4113-a571-8cadc8009151",
   "metadata": {
    "tags": []
   },
   "outputs": [],
   "source": [
    "from sklearn import neighbors"
   ]
  },
  {
   "cell_type": "code",
   "execution_count": null,
   "id": "7e8633c1-df62-4f4b-9b44-6d52e1fc2c08",
   "metadata": {
    "tags": []
   },
   "outputs": [],
   "source": [
    "model_knn = neighbors.KNeighborsClassifier().fit(X_train, Y_train)"
   ]
  },
  {
   "cell_type": "code",
   "execution_count": null,
   "id": "08892984-35f0-479f-9a04-c2907fb4e521",
   "metadata": {
    "tags": []
   },
   "outputs": [],
   "source": [
    "Y_pred = model_knn.predict(X_test)\n",
    "\n",
    "print(\"Accuracy : \",accuracy_score(Y_test, Y_pred))\n",
    "print(\"Precision Score : \", precision_score(Y_test, Y_pred))\n",
    "print(\"Recall Score : \", recall_score(Y_test, Y_pred))\n",
    "print(\"Confusion Matrix : \\n\", confusion_matrix(Y_test, Y_pred))"
   ]
  },
  {
   "cell_type": "markdown",
   "id": "60a2cddb-fd5f-4811-ad43-97f70a266372",
   "metadata": {},
   "source": [
    "<h3> SVM Classifier </h3>"
   ]
  },
  {
   "cell_type": "code",
   "execution_count": null,
   "id": "d40fdd73-cd3b-4777-a8bc-044ef04d3203",
   "metadata": {
    "tags": []
   },
   "outputs": [],
   "source": [
    "from sklearn import svm"
   ]
  },
  {
   "cell_type": "code",
   "execution_count": null,
   "id": "4b4d8037-dcf8-4d0f-bddc-e193a03951a8",
   "metadata": {
    "tags": []
   },
   "outputs": [],
   "source": [
    "model_svm = svm.SVC(kernel=\"linear\").fit(X_train, Y_train)"
   ]
  },
  {
   "cell_type": "code",
   "execution_count": null,
   "id": "23358e0e-e672-41ca-be7a-831e393f5f88",
   "metadata": {
    "tags": []
   },
   "outputs": [],
   "source": [
    "Y_pred = model_svm.predict(X_test)\n",
    "\n",
    "print(\"Accuracy : \",accuracy_score(Y_test, Y_pred))\n",
    "print(\"Precision Score : \", precision_score(Y_test, Y_pred))\n",
    "print(\"Recall Score : \", recall_score(Y_test, Y_pred))\n",
    "print(\"Confusion Matrix : \\n\", confusion_matrix(Y_test, Y_pred))"
   ]
  },
  {
   "cell_type": "markdown",
   "id": "d8464379-8b15-479b-aeae-bf848a017c45",
   "metadata": {},
   "source": [
    "<h3> Gradient Boosting Classifier </h3>"
   ]
  },
  {
   "cell_type": "code",
   "execution_count": null,
   "id": "dc8e5c17-03fb-4663-bd49-ee73ffe91017",
   "metadata": {
    "tags": []
   },
   "outputs": [],
   "source": [
    "from sklearn.ensemble import GradientBoostingClassifier"
   ]
  },
  {
   "cell_type": "code",
   "execution_count": null,
   "id": "1b532d0a-e920-4c3d-bcc2-0386783e2653",
   "metadata": {
    "tags": []
   },
   "outputs": [],
   "source": [
    "model_grad = GradientBoostingClassifier().fit(X_train, Y_train)"
   ]
  },
  {
   "cell_type": "code",
   "execution_count": null,
   "id": "ef97f4d7-a687-4ba8-9540-82f651efcc3b",
   "metadata": {
    "tags": []
   },
   "outputs": [],
   "source": [
    "Y_pred = model_grad.predict(X_test)\n",
    "\n",
    "print(\"Accuracy : \",accuracy_score(Y_test, Y_pred))\n",
    "print(\"Precision Score : \", precision_score(Y_test, Y_pred))\n",
    "print(\"Recall Score : \", recall_score(Y_test, Y_pred))\n",
    "print(\"Confusion Matrix : \\n\", confusion_matrix(Y_test, Y_pred))"
   ]
  },
  {
   "cell_type": "markdown",
   "id": "52b9fecb-f1fd-48e6-b741-89bedd752aad",
   "metadata": {},
   "source": [
    "Les deux modèles qui se démarquent sont Gradient Boosting et Random Forest (même Accuracy, Precision et Recall semblables). ce sont ces modèles qui ont la meilleure Accuracy. Il nous faut maintenant les départager.\n",
    "\n",
    "On souhaite minimiser le nombre de \"False Negative\" dans la matrice de confusion, c'est à dire les personnes ayant réellement besoin d'un traitement, mais qui selon le modèle n'en ont pas besoin. De cette manière, nous pouvons maximiser le nombre de personnes qui ont besoin d'aide et qui sont traitées ou suivies. \n",
    "\n",
    "En suivant cette logique, le meilleur modèle à utiliser est donc Gradient Boosting."
   ]
  },
  {
   "cell_type": "markdown",
   "id": "476ec57e-9927-4ce3-8f99-28bd18adf9e2",
   "metadata": {
    "jp-MarkdownHeadingCollapsed": true,
    "tags": []
   },
   "source": [
    "<h1> Clustering </h1>"
   ]
  },
  {
   "cell_type": "code",
   "execution_count": null,
   "id": "a8fb9b6b-c6c8-496c-9af8-e219e055007b",
   "metadata": {
    "tags": []
   },
   "outputs": [],
   "source": [
    "#installation de KModes\n",
    "#pip install KModes"
   ]
  },
  {
   "cell_type": "code",
   "execution_count": null,
   "id": "0850b547-a066-4d87-93a9-5691ad7bdda0",
   "metadata": {
    "tags": []
   },
   "outputs": [],
   "source": [
    "import numpy as np\n",
    "from kmodes.kmodes import KModes"
   ]
  },
  {
   "cell_type": "markdown",
   "id": "4485e890-7fae-4e6f-b667-62f7ca8fc6e8",
   "metadata": {},
   "source": [
    "Nous retirons les ligne contenants des NaN, Ansi que certaines donnée perturbatrices : 'state' et 'self_employed' qui contient trop d'erreur"
   ]
  },
  {
   "cell_type": "code",
   "execution_count": null,
   "id": "a7cceb60-2b78-4b53-9a0b-8e116668b9eb",
   "metadata": {
    "tags": []
   },
   "outputs": [],
   "source": [
    "data_droped = data.drop(['state', 'self_employed' ], axis=1)\n",
    "data_cleaned = data_droped.dropna()\n",
    "data_cleaned.columns"
   ]
  },
  {
   "cell_type": "markdown",
   "id": "fb764311-1d2c-42ee-a845-fbbd0c120325",
   "metadata": {},
   "source": [
    "Nous avons choisi la méthode des K Modes pour l'apprentissage non supervisé, car nous n'utilisons que des variables qualitatives et cette méthode se prete bien à ce travail.\n",
    "\n",
    "Nous avons choisi ici de construire 2 cluster, car on s'est interessés precédement à la prévisions de la variable treatment. Nous souhaitons voir si cette méthode de clustering nous permet d'identifier ces 2 groupes : les traités et les non traités.\n"
   ]
  },
  {
   "cell_type": "code",
   "execution_count": null,
   "id": "f8bcf918-a123-4aa5-b10e-682358b03ad9",
   "metadata": {
    "tags": []
   },
   "outputs": [],
   "source": [
    "km = KModes(n_clusters=2, init='Huang', n_init=5, verbose=1)\n",
    "\n",
    "clusters = km.fit_predict(data_cleaned)"
   ]
  },
  {
   "cell_type": "markdown",
   "id": "c2410c27-99e7-4434-8e08-f72bcb6c8cdf",
   "metadata": {},
   "source": [
    "Selon les executions, les resultats peuvent differer, mais le modele me renvoie quasiment toujours un centroid où treatment = yes et un centroid où treatment = no"
   ]
  },
  {
   "cell_type": "code",
   "execution_count": null,
   "id": "39f3a284-a942-4a1c-a399-b28fb46fa42f",
   "metadata": {
    "tags": []
   },
   "outputs": [],
   "source": [
    "print(km.cluster_centroids_)"
   ]
  },
  {
   "cell_type": "code",
   "execution_count": null,
   "id": "b3d8a702-73ff-4d30-a8e9-8158df680f85",
   "metadata": {
    "tags": []
   },
   "outputs": [],
   "source": [
    "plt.figure(figsize=(10,6))\n",
    "plt.title(\"treatment Distribution\");\n",
    "sns.scatterplot(data_cleaned.loc[:,\"treatment\"], c = km.labels_, )"
   ]
  },
  {
   "cell_type": "markdown",
   "id": "09a1f690-24ad-4805-b1a4-bc231f7f4a7b",
   "metadata": {},
   "source": [
    "On parvient bien à identifier 2 clusters, l'un avec les personnes traités, l'autres avec les personnes non traités"
   ]
  },
  {
   "cell_type": "code",
   "execution_count": null,
   "id": "aaef7df4-be53-4531-acd9-78970a75361e",
   "metadata": {
    "tags": []
   },
   "outputs": [],
   "source": [
    "sns.displot(x=data_cleaned[\"family_history\"],hue=km.labels_,data=data_cleaned,kde=False)\n",
    "plt.title(\"Family History Distribution\");"
   ]
  },
  {
   "cell_type": "code",
   "execution_count": null,
   "id": "8fc8cb17-0f9c-41c2-a79b-08fd2b34d061",
   "metadata": {
    "tags": []
   },
   "outputs": [],
   "source": [
    "sns.displot(x=data_cleaned[\"work_interfere\"],hue=km.labels_,data=data_cleaned,kde=False)\n",
    "plt.title(\"work_interfere\");"
   ]
  },
  {
   "cell_type": "code",
   "execution_count": null,
   "id": "0e14ce5f-8458-4eea-8255-e1ddd666156d",
   "metadata": {
    "tags": []
   },
   "outputs": [],
   "source": [
    "sns.displot(x=data_cleaned[\"no_employees\"],hue=km.labels_,data=data_cleaned,kde=False)\n",
    "plt.title(\"no_employees\");"
   ]
  },
  {
   "cell_type": "code",
   "execution_count": null,
   "id": "eb5c22ff-3df1-41d2-b4da-bf21e8890d0f",
   "metadata": {
    "tags": []
   },
   "outputs": [],
   "source": [
    "sns.displot(x=data_cleaned[\"care_options\"],hue=km.labels_,data=data_cleaned,kde=False)\n",
    "plt.title(\"care_options\");"
   ]
  },
  {
   "cell_type": "markdown",
   "id": "96b9a69a-b7af-4f5e-a483-e2522be4f621",
   "metadata": {},
   "source": [
    "On peut observer des comportement similaire a la comparaison des variables selon treatment\n"
   ]
  },
  {
   "cell_type": "markdown",
   "id": "8363b6e2-da21-493c-88a8-16ff57de84bd",
   "metadata": {},
   "source": [
    "Après avoir tenté d'utiliser la méthode avec plus de cluster, n'arrivant pas à identifier des comportement clairs et interprétables, nous avons décidé d'en rester là avec 2 clusters."
   ]
  },
  {
   "cell_type": "code",
   "execution_count": null,
   "id": "a6a1ef03-251b-43f8-ae90-7dc28c3111c3",
   "metadata": {},
   "outputs": [],
   "source": []
  }
 ],
 "metadata": {
  "kernelspec": {
   "display_name": "Python 3 (ipykernel)",
   "language": "python",
   "name": "python3"
  },
  "language_info": {
   "codemirror_mode": {
    "name": "ipython",
    "version": 3
   },
   "file_extension": ".py",
   "mimetype": "text/x-python",
   "name": "python",
   "nbconvert_exporter": "python",
   "pygments_lexer": "ipython3",
   "version": "3.10.12"
  }
 },
 "nbformat": 4,
 "nbformat_minor": 5
}
